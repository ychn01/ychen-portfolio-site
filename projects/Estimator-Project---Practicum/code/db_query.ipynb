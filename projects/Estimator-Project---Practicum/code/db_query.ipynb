{
 "cells": [
  {
   "cell_type": "code",
   "execution_count": null,
   "id": "0fcae67f",
   "metadata": {
    "id": "0fcae67f"
   },
   "outputs": [],
   "source": [
    "import pandas as pd\n",
    "from azure.cosmos import CosmosClient, PartitionKey\n",
    "import json\n",
    "import csv"
   ]
  },
  {
   "cell_type": "markdown",
   "id": "48e50e9a",
   "metadata": {
    "id": "48e50e9a"
   },
   "source": [
    "### Access Database"
   ]
  },
  {
   "cell_type": "code",
   "execution_count": null,
   "id": "a8ab9d54",
   "metadata": {
    "id": "a8ab9d54"
   },
   "outputs": [],
   "source": [
    "# Initialize the Cosmos client\n",
    "cosmos_client = CosmosClient(\"https://prodccpdt.documents.azure.com:443/\", \"token\")\n",
    "\n",
    "database_name = 'ccpdt'\n",
    "database = cosmos_client.get_database_client(database_name)\n",
    "\n",
    "# Access the container\n",
    "container_name = 'ccpdt'\n",
    "container = database.get_container_client(container_name)"
   ]
  },
  {
   "cell_type": "code",
   "execution_count": null,
   "id": "3a95b049",
   "metadata": {
    "id": "3a95b049"
   },
   "outputs": [],
   "source": [
    "#read the data\n",
    "data = list(container.read_all_items())"
   ]
  },
  {
   "cell_type": "code",
   "execution_count": null,
   "id": "48925177",
   "metadata": {
    "id": "48925177",
    "outputId": "3ba3ad21-e1b0-463f-8a70-7a6076bef839"
   },
   "outputs": [
    {
     "data": {
      "text/html": [
       "<div>\n",
       "<style scoped>\n",
       "    .dataframe tbody tr th:only-of-type {\n",
       "        vertical-align: middle;\n",
       "    }\n",
       "\n",
       "    .dataframe tbody tr th {\n",
       "        vertical-align: top;\n",
       "    }\n",
       "\n",
       "    .dataframe thead th {\n",
       "        text-align: right;\n",
       "    }\n",
       "</style>\n",
       "<table border=\"1\" class=\"dataframe\">\n",
       "  <thead>\n",
       "    <tr style=\"text-align: right;\">\n",
       "      <th></th>\n",
       "      <th>type</th>\n",
       "      <th>status</th>\n",
       "      <th>companyName</th>\n",
       "      <th>companyType</th>\n",
       "      <th>numberOfEmployees</th>\n",
       "      <th>clients</th>\n",
       "      <th>offices</th>\n",
       "      <th>resourceUsers</th>\n",
       "      <th>logo</th>\n",
       "      <th>partitionKey</th>\n",
       "      <th>...</th>\n",
       "      <th>estimate.inclusions</th>\n",
       "      <th>estimate.exclusions</th>\n",
       "      <th>estimate.payments</th>\n",
       "      <th>estimate.zip_code</th>\n",
       "      <th>estimate.fax</th>\n",
       "      <th>estimate.custom_fields.Project Type</th>\n",
       "      <th>templateData.officeOwnerNextSteps</th>\n",
       "      <th>templateData.disciplines</th>\n",
       "      <th>deletedById</th>\n",
       "      <th>templateData.accountContributorNextSteps</th>\n",
       "    </tr>\n",
       "  </thead>\n",
       "  <tbody>\n",
       "    <tr>\n",
       "      <th>0</th>\n",
       "      <td>0</td>\n",
       "      <td>0.0</td>\n",
       "      <td>Project Cost Solutions, Inc.</td>\n",
       "      <td>1.0</td>\n",
       "      <td>10-20</td>\n",
       "      <td>[]</td>\n",
       "      <td>[{'id': 'd2a33bab-811f-4910-bb8a-67931f8197e1'...</td>\n",
       "      <td>[{'id': '07b9dc23-c95e-4446-a043-7edb30de4717'...</td>\n",
       "      <td>data:image/png;base64,iVBORw0KGgoAAAANSUhEUgAA...</td>\n",
       "      <td>account</td>\n",
       "      <td>...</td>\n",
       "      <td>NaN</td>\n",
       "      <td>NaN</td>\n",
       "      <td>NaN</td>\n",
       "      <td>NaN</td>\n",
       "      <td>NaN</td>\n",
       "      <td>NaN</td>\n",
       "      <td>NaN</td>\n",
       "      <td>NaN</td>\n",
       "      <td>NaN</td>\n",
       "      <td>NaN</td>\n",
       "    </tr>\n",
       "    <tr>\n",
       "      <th>1</th>\n",
       "      <td>NaN</td>\n",
       "      <td>NaN</td>\n",
       "      <td>NaN</td>\n",
       "      <td>NaN</td>\n",
       "      <td>NaN</td>\n",
       "      <td>NaN</td>\n",
       "      <td>NaN</td>\n",
       "      <td>NaN</td>\n",
       "      <td>NaN</td>\n",
       "      <td>constructionCategory</td>\n",
       "      <td>...</td>\n",
       "      <td>NaN</td>\n",
       "      <td>NaN</td>\n",
       "      <td>NaN</td>\n",
       "      <td>NaN</td>\n",
       "      <td>NaN</td>\n",
       "      <td>NaN</td>\n",
       "      <td>NaN</td>\n",
       "      <td>NaN</td>\n",
       "      <td>NaN</td>\n",
       "      <td>NaN</td>\n",
       "    </tr>\n",
       "    <tr>\n",
       "      <th>2</th>\n",
       "      <td>NaN</td>\n",
       "      <td>NaN</td>\n",
       "      <td>NaN</td>\n",
       "      <td>NaN</td>\n",
       "      <td>NaN</td>\n",
       "      <td>NaN</td>\n",
       "      <td>NaN</td>\n",
       "      <td>NaN</td>\n",
       "      <td>NaN</td>\n",
       "      <td>constructionCategory</td>\n",
       "      <td>...</td>\n",
       "      <td>NaN</td>\n",
       "      <td>NaN</td>\n",
       "      <td>NaN</td>\n",
       "      <td>NaN</td>\n",
       "      <td>NaN</td>\n",
       "      <td>NaN</td>\n",
       "      <td>NaN</td>\n",
       "      <td>NaN</td>\n",
       "      <td>NaN</td>\n",
       "      <td>NaN</td>\n",
       "    </tr>\n",
       "    <tr>\n",
       "      <th>3</th>\n",
       "      <td>NaN</td>\n",
       "      <td>NaN</td>\n",
       "      <td>NaN</td>\n",
       "      <td>NaN</td>\n",
       "      <td>NaN</td>\n",
       "      <td>NaN</td>\n",
       "      <td>NaN</td>\n",
       "      <td>NaN</td>\n",
       "      <td>NaN</td>\n",
       "      <td>disciplineSkill</td>\n",
       "      <td>...</td>\n",
       "      <td>NaN</td>\n",
       "      <td>NaN</td>\n",
       "      <td>NaN</td>\n",
       "      <td>NaN</td>\n",
       "      <td>NaN</td>\n",
       "      <td>NaN</td>\n",
       "      <td>NaN</td>\n",
       "      <td>NaN</td>\n",
       "      <td>NaN</td>\n",
       "      <td>NaN</td>\n",
       "    </tr>\n",
       "    <tr>\n",
       "      <th>4</th>\n",
       "      <td>NaN</td>\n",
       "      <td>NaN</td>\n",
       "      <td>NaN</td>\n",
       "      <td>NaN</td>\n",
       "      <td>NaN</td>\n",
       "      <td>NaN</td>\n",
       "      <td>NaN</td>\n",
       "      <td>NaN</td>\n",
       "      <td>NaN</td>\n",
       "      <td>disciplineSkill</td>\n",
       "      <td>...</td>\n",
       "      <td>NaN</td>\n",
       "      <td>NaN</td>\n",
       "      <td>NaN</td>\n",
       "      <td>NaN</td>\n",
       "      <td>NaN</td>\n",
       "      <td>NaN</td>\n",
       "      <td>NaN</td>\n",
       "      <td>NaN</td>\n",
       "      <td>NaN</td>\n",
       "      <td>NaN</td>\n",
       "    </tr>\n",
       "  </tbody>\n",
       "</table>\n",
       "<p>5 rows × 269 columns</p>\n",
       "</div>"
      ],
      "text/plain": [
       "  type  status                   companyName  companyType numberOfEmployees  \\\n",
       "0    0     0.0  Project Cost Solutions, Inc.          1.0             10-20   \n",
       "1  NaN     NaN                           NaN          NaN               NaN   \n",
       "2  NaN     NaN                           NaN          NaN               NaN   \n",
       "3  NaN     NaN                           NaN          NaN               NaN   \n",
       "4  NaN     NaN                           NaN          NaN               NaN   \n",
       "\n",
       "  clients                                            offices  \\\n",
       "0      []  [{'id': 'd2a33bab-811f-4910-bb8a-67931f8197e1'...   \n",
       "1     NaN                                                NaN   \n",
       "2     NaN                                                NaN   \n",
       "3     NaN                                                NaN   \n",
       "4     NaN                                                NaN   \n",
       "\n",
       "                                       resourceUsers  \\\n",
       "0  [{'id': '07b9dc23-c95e-4446-a043-7edb30de4717'...   \n",
       "1                                                NaN   \n",
       "2                                                NaN   \n",
       "3                                                NaN   \n",
       "4                                                NaN   \n",
       "\n",
       "                                                logo          partitionKey  \\\n",
       "0  data:image/png;base64,iVBORw0KGgoAAAANSUhEUgAA...               account   \n",
       "1                                                NaN  constructionCategory   \n",
       "2                                                NaN  constructionCategory   \n",
       "3                                                NaN       disciplineSkill   \n",
       "4                                                NaN       disciplineSkill   \n",
       "\n",
       "   ... estimate.inclusions estimate.exclusions estimate.payments  \\\n",
       "0  ...                 NaN                 NaN               NaN   \n",
       "1  ...                 NaN                 NaN               NaN   \n",
       "2  ...                 NaN                 NaN               NaN   \n",
       "3  ...                 NaN                 NaN               NaN   \n",
       "4  ...                 NaN                 NaN               NaN   \n",
       "\n",
       "  estimate.zip_code estimate.fax estimate.custom_fields.Project Type  \\\n",
       "0               NaN          NaN                                 NaN   \n",
       "1               NaN          NaN                                 NaN   \n",
       "2               NaN          NaN                                 NaN   \n",
       "3               NaN          NaN                                 NaN   \n",
       "4               NaN          NaN                                 NaN   \n",
       "\n",
       "  templateData.officeOwnerNextSteps templateData.disciplines  deletedById  \\\n",
       "0                               NaN                      NaN          NaN   \n",
       "1                               NaN                      NaN          NaN   \n",
       "2                               NaN                      NaN          NaN   \n",
       "3                               NaN                      NaN          NaN   \n",
       "4                               NaN                      NaN          NaN   \n",
       "\n",
       "   templateData.accountContributorNextSteps  \n",
       "0                                       NaN  \n",
       "1                                       NaN  \n",
       "2                                       NaN  \n",
       "3                                       NaN  \n",
       "4                                       NaN  \n",
       "\n",
       "[5 rows x 269 columns]"
      ]
     },
     "execution_count": 6,
     "metadata": {},
     "output_type": "execute_result"
    }
   ],
   "source": [
    "#normalize and convert to csv\n",
    "df = pd.json_normalize(data)\n",
    "df.to_csv('cc_data.csv', index=False)\n",
    "df.head()"
   ]
  },
  {
   "cell_type": "code",
   "execution_count": null,
   "id": "4bb384c5",
   "metadata": {
    "id": "4bb384c5"
   },
   "outputs": [],
   "source": [
    "# Get container properties\n",
    "container_properties = container.read()\n",
    "print(container_properties)\n",
    "# Retrieve and print the partition key path\n",
    "partition_key_path = container_properties['partitionKey']['paths']\n",
    "print(\"Partition Key Path:\", partition_key_path)"
   ]
  },
  {
   "cell_type": "markdown",
   "id": "4e0e467e",
   "metadata": {
    "id": "4e0e467e"
   },
   "source": [
    "### Query user"
   ]
  },
  {
   "cell_type": "code",
   "execution_count": null,
   "id": "0e196ac5",
   "metadata": {
    "id": "0e196ac5",
    "outputId": "d5ed86b6-c2d7-4a91-cb41-dcbcbecca7a1"
   },
   "outputs": [
    {
     "name": "stdout",
     "output_type": "stream",
     "text": [
      "{'partitionKey': 'account'}\n",
      "{'partitionKey': 'comment'}\n",
      "{'partitionKey': 'constructionCategory'}\n",
      "{'partitionKey': 'content:project'}\n",
      "{'partitionKey': 'disciplineSkill'}\n",
      "{'partitionKey': 'email'}\n",
      "{'partitionKey': 'invitation'}\n",
      "{'partitionKey': 'leger'}\n",
      "{'partitionKey': 'proEst:snapshot'}\n",
      "{'partitionKey': 'project'}\n",
      "{'partitionKey': 'projectRate'}\n",
      "{'partitionKey': 'projectType'}\n",
      "{'partitionKey': 'projectTypeCategory'}\n",
      "{'partitionKey': 'setting'}\n",
      "{'partitionKey': 'user'}\n"
     ]
    }
   ],
   "source": [
    "#Find the partition categories\n",
    "query = \"SELECT DISTINCT c.partitionKey FROM c\"\n",
    "\n",
    "# Execute the query\n",
    "partition_keys = list(container.query_items(\n",
    "    query=query,\n",
    "    enable_cross_partition_query=True\n",
    "))\n",
    "\n",
    "# Print the distinct partition keys\n",
    "for pk in partition_keys:\n",
    "    print(pk)\n"
   ]
  },
  {
   "cell_type": "code",
   "execution_count": null,
   "id": "a5356731",
   "metadata": {
    "id": "a5356731",
    "outputId": "d24ec55f-93ab-4d28-8a94-7f7a87861b98"
   },
   "outputs": [],
   "source": [
    "#user names and unique id\n",
    "### Finds all the unique ID and roles\n",
    "query = \"SELECT c.givenName, c.familyName, c.id, c.primaryDiscipline, c.expertRole, c.expertType, c.userType FROM c WHERE c.partitionKey = 'user' \"\n",
    "\n",
    "# Execute the query\n",
    "names = list(container.query_items(\n",
    "    query=query,\n",
    "    enable_cross_partition_query=True\n",
    "))\n",
    "\n",
    "# Print the distinct IDs\n",
    "for name in names:\n",
    "    print(name)\n",
    "\n",
    "# #convert to csv\n",
    "# df = pd.json_normalize(names)\n",
    "# df.to_csv('cc_names.csv', index=False)"
   ]
  },
  {
   "cell_type": "markdown",
   "id": "399109be",
   "metadata": {
    "id": "399109be"
   },
   "source": [
    "### Query project"
   ]
  },
  {
   "cell_type": "code",
   "execution_count": null,
   "id": "94e4633c",
   "metadata": {
    "id": "94e4633c"
   },
   "outputs": [],
   "source": [
    "#project status query\n",
    "query = \"SELECT c.statusHistory, c.accountId, c.officeId, c.id FROM c WHERE c.partitionKey = 'project' \"\n",
    "\n",
    "# Execute the query\n",
    "projects = list(container.query_items(\n",
    "    query=query,\n",
    "    enable_cross_partition_query=True\n",
    "))"
   ]
  },
  {
   "cell_type": "code",
   "execution_count": null,
   "id": "997718d3",
   "metadata": {
    "id": "997718d3"
   },
   "outputs": [],
   "source": [
    "# create csv\n",
    "with open('project_status.csv', mode='w', newline='') as file:\n",
    "    writer = csv.writer(file)\n",
    "\n",
    "    writer.writerow([\"account_id\", \"office_id\", \"project_id\", \"status_history\"])\n",
    "\n",
    "    # Each status history as a row\n",
    "    for project in projects:\n",
    "        for p in project['statusHistory']:\n",
    "            line = json.dumps(p, separators=(',', ':'))\n",
    "            writer.writerow([project['accountId'], project['officeId'], project['id'], line])"
   ]
  },
  {
   "cell_type": "code",
   "execution_count": null,
   "id": "e5cf41fd",
   "metadata": {
    "id": "e5cf41fd"
   },
   "outputs": [],
   "source": [
    "#project estimates\n",
    "query = \"SELECT c.phases, c.id FROM c WHERE c.partitionKey = 'project' \"\n",
    "\n",
    "# Execute the query\n",
    "projects = list(container.query_items(\n",
    "    query=query,\n",
    "    enable_cross_partition_query=True\n",
    "))"
   ]
  },
  {
   "cell_type": "code",
   "execution_count": null,
   "id": "2fcd5ed4",
   "metadata": {
    "id": "2fcd5ed4"
   },
   "outputs": [],
   "source": [
    "# create csv for estimates\n",
    "with open('project_estimates.csv', mode='w', newline='') as file:\n",
    "    writer = csv.writer(file)\n",
    "\n",
    "    writer.writerow([\"project_id\", \"phase_type\", \"phase_status\", \"estimates_id\", \"created_date\", \"updated_date\", \"discipline\", \"estimate_status\", \"effort_hours\", \"manual_hours\", \"difficulty\" ])\n",
    "\n",
    "    # Each status history as a row\n",
    "    for project in projects:\n",
    "        for phase in project['phases']:\n",
    "            if 'estimates' in phase:\n",
    "                for est in phase['estimates']:\n",
    "                    line = [\n",
    "                        project['id'],\n",
    "                        phase['phaseType'],\n",
    "                        phase['status'],\n",
    "                        est.get('id', ''),\n",
    "                        est.get('createdAt', ''),\n",
    "                        est.get('updatedAt', ''),\n",
    "                        est.get('discipline', ''),\n",
    "                        est.get('status', ''),\n",
    "                        est.get('levelOfEffortHours', ''),\n",
    "                        est.get('manualLevelOfEffortHours', ''),\n",
    "                        json.dumps(est.get('difficulty', []), separators=(',', ':'))\n",
    "                    ]\n",
    "                    writer.writerow(line)"
   ]
  },
  {
   "cell_type": "code",
   "execution_count": null,
   "id": "dc1612f0",
   "metadata": {
    "id": "dc1612f0"
   },
   "outputs": [],
   "source": [
    "# create csv for labor hours\n",
    "with open('labor_hours.csv', mode='w', newline='') as file:\n",
    "    writer = csv.writer(file)\n",
    "\n",
    "    writer.writerow([\"project_id\", \"labor_status\", \"user_id\", \"skills\", \"hours\"])\n",
    "\n",
    "    # Each status history as a row\n",
    "    for project in projects:\n",
    "        for phase in project['phases']:\n",
    "            if 'estimates' in phase:\n",
    "                for est in phase['estimates']:\n",
    "                    if 'labor' in est:\n",
    "                        for labor in est['labor']:\n",
    "                            line = [\n",
    "                                project['id'],\n",
    "                                labor['status'],\n",
    "                                labor.get('userId', ''),\n",
    "                                labor.get('skills', ''),\n",
    "                                json.dumps(labor.get('hours', []), separators=(',', ':'))\n",
    "                            ]\n",
    "                            writer.writerow(line)"
   ]
  },
  {
   "cell_type": "code",
   "execution_count": null,
   "id": "094d8ae1",
   "metadata": {
    "id": "094d8ae1"
   },
   "outputs": [],
   "source": [
    "df_labor = pd.read_csv('labor_hours.csv')\n",
    "df_user = pd.read_csv('cc_names.csv')\n",
    "user_hours = df_labor.merge(df_user, on='user_id', how='left')\n",
    "user_hours.to_csv('user_hours.csv', index=False)"
   ]
  },
  {
   "cell_type": "code",
   "execution_count": null,
   "id": "d2e9ce16",
   "metadata": {
    "id": "d2e9ce16"
   },
   "outputs": [],
   "source": []
  }
 ],
 "metadata": {
  "colab": {
   "provenance": []
  },
  "kernelspec": {
   "display_name": "Python 3 (ipykernel)",
   "language": "python",
   "name": "python3"
  },
  "language_info": {
   "codemirror_mode": {
    "name": "ipython",
    "version": 3
   },
   "file_extension": ".py",
   "mimetype": "text/x-python",
   "name": "python",
   "nbconvert_exporter": "python",
   "pygments_lexer": "ipython3",
   "version": "3.10.9"
  }
 },
 "nbformat": 4,
 "nbformat_minor": 5
}
