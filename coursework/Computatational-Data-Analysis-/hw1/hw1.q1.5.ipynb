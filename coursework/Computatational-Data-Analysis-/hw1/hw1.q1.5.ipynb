{
 "cells": [
  {
   "cell_type": "code",
   "execution_count": 1,
   "id": "aa616384",
   "metadata": {},
   "outputs": [],
   "source": [
    "import numpy as np\n",
    "import pandas as pd"
   ]
  },
  {
   "cell_type": "code",
   "execution_count": 40,
   "id": "18b176fc",
   "metadata": {},
   "outputs": [
    {
     "data": {
      "text/plain": [
       "array([[ 2, -1, -1,  0,  0],\n",
       "       [-1,  2, -1,  0,  0],\n",
       "       [-1, -1,  2,  0,  0],\n",
       "       [ 0,  0,  0,  1, -1],\n",
       "       [ 0,  0,  0, -1,  1]])"
      ]
     },
     "execution_count": 40,
     "metadata": {},
     "output_type": "execute_result"
    }
   ],
   "source": [
    "A = np.array([[0, 1, 1, 0, 0],\n",
    "    [1, 0, 1, 0, 0],\n",
    "    [1, 1, 0, 0, 0],\n",
    "    [0, 0, 0, 0, 1],\n",
    "    [0, 0, 0, 1, 0]])\n",
    "\n",
    "D = np.array([[2, 0, 0, 0, 0],\n",
    "    [0, 2, 0, 0, 0],\n",
    "    [0, 0, 2, 0, 0],\n",
    "    [0, 0, 0, 1, 0],\n",
    "    [0, 0, 0, 0, 1]])\n",
    "\n",
    "L = D - A\n",
    "\n",
    "L"
   ]
  },
  {
   "cell_type": "code",
   "execution_count": 36,
   "id": "d1ca6adb",
   "metadata": {},
   "outputs": [],
   "source": [
    "eigenval, eigenvec = np.linalg.eig(L)\n",
    "lambd = np.diag(eigenval)\n"
   ]
  },
  {
   "cell_type": "code",
   "execution_count": 37,
   "id": "f87a5ec9",
   "metadata": {},
   "outputs": [
    {
     "name": "stdout",
     "output_type": "stream",
     "text": [
      "Eigenval =  [ 3.0000000e+00 -4.4408921e-16  3.0000000e+00  2.0000000e+00\n",
      "  0.0000000e+00]\n"
     ]
    }
   ],
   "source": [
    "print(\"Eigenval = \",eigenval)"
   ]
  },
  {
   "cell_type": "code",
   "execution_count": 38,
   "id": "449a6dea",
   "metadata": {},
   "outputs": [
    {
     "name": "stdout",
     "output_type": "stream",
     "text": [
      "Eigenvec =  [[ 0.81649658 -0.57735027  0.29329423  0.          0.        ]\n",
      " [-0.40824829 -0.57735027 -0.80655913  0.          0.        ]\n",
      " [-0.40824829 -0.57735027  0.5132649   0.          0.        ]\n",
      " [ 0.          0.          0.          0.70710678  0.70710678]\n",
      " [ 0.          0.          0.         -0.70710678  0.70710678]]\n"
     ]
    }
   ],
   "source": [
    "print(\"Eigenvec = \",eigenvec)"
   ]
  },
  {
   "cell_type": "code",
   "execution_count": 39,
   "id": "696e2b19",
   "metadata": {},
   "outputs": [
    {
     "name": "stdout",
     "output_type": "stream",
     "text": [
      "lambd =  [[ 3.0000000e+00  0.0000000e+00  0.0000000e+00  0.0000000e+00\n",
      "   0.0000000e+00]\n",
      " [ 0.0000000e+00 -4.4408921e-16  0.0000000e+00  0.0000000e+00\n",
      "   0.0000000e+00]\n",
      " [ 0.0000000e+00  0.0000000e+00  3.0000000e+00  0.0000000e+00\n",
      "   0.0000000e+00]\n",
      " [ 0.0000000e+00  0.0000000e+00  0.0000000e+00  2.0000000e+00\n",
      "   0.0000000e+00]\n",
      " [ 0.0000000e+00  0.0000000e+00  0.0000000e+00  0.0000000e+00\n",
      "   0.0000000e+00]]\n"
     ]
    }
   ],
   "source": [
    "print(\"lambd = \",lambd)"
   ]
  },
  {
   "cell_type": "code",
   "execution_count": null,
   "id": "1561f801",
   "metadata": {},
   "outputs": [],
   "source": []
  },
  {
   "cell_type": "code",
   "execution_count": null,
   "id": "1646375c",
   "metadata": {},
   "outputs": [],
   "source": []
  }
 ],
 "metadata": {
  "kernelspec": {
   "display_name": "Python 3 (ipykernel)",
   "language": "python",
   "name": "python3"
  },
  "language_info": {
   "codemirror_mode": {
    "name": "ipython",
    "version": 3
   },
   "file_extension": ".py",
   "mimetype": "text/x-python",
   "name": "python",
   "nbconvert_exporter": "python",
   "pygments_lexer": "ipython3",
   "version": "3.10.9"
  }
 },
 "nbformat": 4,
 "nbformat_minor": 5
}
