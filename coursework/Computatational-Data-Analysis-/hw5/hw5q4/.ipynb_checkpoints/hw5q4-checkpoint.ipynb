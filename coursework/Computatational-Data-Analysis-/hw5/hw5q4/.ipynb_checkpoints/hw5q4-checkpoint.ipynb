{
 "cells": [
  {
   "cell_type": "code",
   "execution_count": 3,
   "id": "48c3a2df",
   "metadata": {},
   "outputs": [],
   "source": [
    "import numpy as np"
   ]
  },
  {
   "cell_type": "markdown",
   "id": "88c7f9df",
   "metadata": {},
   "source": [
    "### q4p1"
   ]
  },
  {
   "cell_type": "code",
   "execution_count": 4,
   "id": "3fb75bbe",
   "metadata": {},
   "outputs": [],
   "source": [
    "#Prize table values\n",
    "p1s1 = 150\n",
    "p1s0 = 1000\n",
    "p0s1 = 10\n",
    "p0s0 = 15000"
   ]
  },
  {
   "cell_type": "code",
   "execution_count": 5,
   "id": "66b87741",
   "metadata": {},
   "outputs": [],
   "source": [
    "#N values\n",
    "pN = p1s1 + p1s0 + p0s1 + p0s0\n",
    "pN0_ = p0s1 + p0s0\n",
    "pN_0 = p1s0 + p0s0\n",
    "pN1_ = p1s1 + p1s0\n",
    "pN_1 = p1s1 + p0s1"
   ]
  },
  {
   "cell_type": "code",
   "execution_count": 6,
   "id": "3931e233",
   "metadata": {},
   "outputs": [],
   "source": [
    "#hello table values\n",
    "h1s1 = 145\n",
    "h1s0 = 11000\n",
    "h0s1 = 10\n",
    "h0s0 = 5000"
   ]
  },
  {
   "cell_type": "code",
   "execution_count": 7,
   "id": "a22f068d",
   "metadata": {},
   "outputs": [],
   "source": [
    "#N values\n",
    "hN = h1s1 + h1s0 + h0s1 + h0s0\n",
    "hN0_ = h0s1 + h0s0\n",
    "hN_0 = h1s0 + h0s0\n",
    "hN1_ = h1s1 + h1s0\n",
    "hN_1 = h1s1 + h0s1"
   ]
  },
  {
   "cell_type": "code",
   "execution_count": 8,
   "id": "7e74f6d5",
   "metadata": {},
   "outputs": [],
   "source": [
    "def IUC(N11, N10, N01, N00, N, N0_, N_0, N1_, N_1):\n",
    "    t1 = (N11 / N) * np.log2((N * N11) / (N1_ * N_1))\n",
    "    t2 = (N01 / N) * np.log2((N * N01) / (N0_ * N_1))\n",
    "    t3 = (N10 / N) * np.log2((N * N10) / (N1_ * N_0))\n",
    "    t4 = (N00 / N) * np.log2((N * N00) / (N0_ * N_0))\n",
    "    tot = t1 + t2 + t3 + t4\n",
    "    \n",
    "    return tot"
   ]
  },
  {
   "cell_type": "code",
   "execution_count": 9,
   "id": "41d0b25b",
   "metadata": {},
   "outputs": [
    {
     "name": "stdout",
     "output_type": "stream",
     "text": [
      "Prize Mutal Information Value: 0.032960118763953966\n",
      "Hello Mutal Information Value: 0.002560350473205207\n"
     ]
    }
   ],
   "source": [
    "prize_iuc = IUC(p1s1, p1s0, p0s1, p0s0, pN, pN0_, pN_0, pN1_, pN_1)\n",
    "hello_iuc = IUC(h1s1, h1s0, h0s1, h0s0, hN, hN0_, hN_0, hN1_, hN_1)\n",
    "\n",
    "print(\"Prize Mutal Information Value:\", prize_iuc)\n",
    "print(\"Hello Mutal Information Value:\", hello_iuc)"
   ]
  },
  {
   "cell_type": "code",
   "execution_count": null,
   "id": "2f2352f3",
   "metadata": {},
   "outputs": [],
   "source": []
  }
 ],
 "metadata": {
  "kernelspec": {
   "display_name": "Python 3 (ipykernel)",
   "language": "python",
   "name": "python3"
  },
  "language_info": {
   "codemirror_mode": {
    "name": "ipython",
    "version": 3
   },
   "file_extension": ".py",
   "mimetype": "text/x-python",
   "name": "python",
   "nbconvert_exporter": "python",
   "pygments_lexer": "ipython3",
   "version": "3.10.9"
  }
 },
 "nbformat": 4,
 "nbformat_minor": 5
}
