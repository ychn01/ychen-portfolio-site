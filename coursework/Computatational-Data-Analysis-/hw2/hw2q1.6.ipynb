{
 "cells": [
  {
   "cell_type": "code",
   "execution_count": 14,
   "id": "3db74193",
   "metadata": {},
   "outputs": [],
   "source": [
    "import numpy as np"
   ]
  },
  {
   "cell_type": "code",
   "execution_count": 15,
   "id": "728881dd",
   "metadata": {
    "scrolled": false
   },
   "outputs": [],
   "source": [
    "x1 = np.array([[1, 2], [3, 4], [5, 6], [7,8]])\n",
    "x2 = np.array([[1, 2], [2, 3], [5,6], [70, 80]])\n",
    "\n",
    "evalue_x1, evector_x1 = np.linalg.eig(np.cov(x1))\n",
    "evalue_x2, evector_x2 = np.linalg.eig(np.cov(x2))"
   ]
  },
  {
   "cell_type": "code",
   "execution_count": 16,
   "id": "8830db55",
   "metadata": {},
   "outputs": [
    {
     "name": "stdout",
     "output_type": "stream",
     "text": [
      "eigenvalue for x1: [-2.22044605e-16  2.00000000e+00  0.00000000e+00  0.00000000e+00]\n",
      "eigenvalue for x2: [-7.10542736e-15  5.15000000e+01  0.00000000e+00  9.58658933e-16]\n"
     ]
    }
   ],
   "source": [
    "print(\"eigenvalue for x1:\", evalue_x1) \n",
    "print(\"eigenvalue for x2:\", evalue_x2)"
   ]
  },
  {
   "cell_type": "code",
   "execution_count": 17,
   "id": "e37896da",
   "metadata": {},
   "outputs": [
    {
     "name": "stdout",
     "output_type": "stream",
     "text": [
      "eigenvector for x1: [[-8.66025404e-01  5.00000000e-01 -3.71854204e-18 -3.71854204e-18]\n",
      " [ 2.88675135e-01  5.00000000e-01 -5.77350269e-01 -5.77350269e-01]\n",
      " [ 2.88675135e-01  5.00000000e-01  7.88675135e-01 -2.11324865e-01]\n",
      " [ 2.88675135e-01  5.00000000e-01 -2.11324865e-01  7.88675135e-01]]\n",
      "eigenvector for x2: [[-0.99513379  0.09853293  0.         -0.08214331]\n",
      " [ 0.00975621  0.09853293  0.09901475 -0.69694538]\n",
      " [ 0.00975621  0.09853293 -0.99107935 -0.69694538]\n",
      " [ 0.09756214  0.98532928  0.08920646  0.14760341]]\n"
     ]
    }
   ],
   "source": [
    "print(\"eigenvector for x1:\", evector_x1)\n",
    "print(\"eigenvector for x2:\", evector_x2)"
   ]
  }
 ],
 "metadata": {
  "kernelspec": {
   "display_name": "Python 3 (ipykernel)",
   "language": "python",
   "name": "python3"
  },
  "language_info": {
   "codemirror_mode": {
    "name": "ipython",
    "version": 3
   },
   "file_extension": ".py",
   "mimetype": "text/x-python",
   "name": "python",
   "nbconvert_exporter": "python",
   "pygments_lexer": "ipython3",
   "version": "3.10.9"
  }
 },
 "nbformat": 4,
 "nbformat_minor": 5
}
